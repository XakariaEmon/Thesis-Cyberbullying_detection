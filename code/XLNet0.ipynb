{
 "cells": [
  {
   "cell_type": "code",
   "execution_count": 1,
   "id": "4684e670-7056-4fc5-9e74-109e4d4eb2e5",
   "metadata": {},
   "outputs": [
    {
     "name": "stdout",
     "output_type": "stream",
     "text": [
      "4.51.3\n"
     ]
    }
   ],
   "source": [
    "import transformers\n",
    "print(transformers.__version__)\n"
   ]
  },
  {
   "cell_type": "code",
   "execution_count": 2,
   "id": "43d0dc64-d079-4417-9695-26cfcd3d4a38",
   "metadata": {},
   "outputs": [],
   "source": [
    "import pandas as pd\n",
    "import numpy as np\n",
    "from sklearn.model_selection import train_test_split\n",
    "from sklearn.metrics import classification_report\n",
    "from transformers import XLNetTokenizer, XLNetForSequenceClassification\n",
    "from transformers import Trainer, TrainingArguments\n",
    "from torch.utils.data import Dataset, DataLoader\n",
    "import torch"
   ]
  },
  {
   "cell_type": "code",
   "execution_count": 3,
   "id": "e7d6123c-aa9b-47d0-bce1-62d17c56cbbc",
   "metadata": {},
   "outputs": [],
   "source": [
    "dataset_path = 'preprocessed_english_1.csv'"
   ]
  },
  {
   "cell_type": "code",
   "execution_count": 4,
   "id": "d0aa04cd-3e34-434c-8e99-0fbf4bea2aac",
   "metadata": {},
   "outputs": [],
   "source": [
    "df = pd.read_csv(dataset_path, encoding='latin-1')"
   ]
  },
  {
   "cell_type": "code",
   "execution_count": 5,
   "id": "37ac1f32-d784-4551-bced-dc0e46596cfd",
   "metadata": {},
   "outputs": [
    {
     "name": "stdout",
     "output_type": "stream",
     "text": [
      "0    in other words katandandre, your food was crap...\n",
      "1    why is aussietv so white? mkr theblock imacele...\n",
      "2         a classy whore? or more red velvet cupcakes?\n",
      "3    meh. p  thanks for the heads up, but not too c...\n",
      "4    this is an isis account pretending to be a kur...\n",
      "Name: cleaned_text, dtype: object\n"
     ]
    }
   ],
   "source": [
    "print(df.head()['cleaned_text'])"
   ]
  },
  {
   "cell_type": "code",
   "execution_count": 6,
   "id": "21db42db-fd7a-4ef5-9140-a3f1cdc2520d",
   "metadata": {},
   "outputs": [],
   "source": [
    "# Preprocessing\n",
    "classes = df['label'].unique()\n",
    "class_to_id = {cls: idx for idx, cls in enumerate(classes)}\n",
    "id_to_class = {idx: cls for cls, idx in class_to_id.items()}"
   ]
  },
  {
   "cell_type": "code",
   "execution_count": 7,
   "id": "599ac839-7e56-4f18-a128-3af1dbeb0f4c",
   "metadata": {},
   "outputs": [],
   "source": [
    "df = df.drop(columns=['comments'])"
   ]
  },
  {
   "cell_type": "code",
   "execution_count": 8,
   "id": "37946538-c0d6-41bf-862f-a63fa98cedf5",
   "metadata": {},
   "outputs": [],
   "source": [
    "# Map class labels to IDs\n",
    "df['label'] = df['label'].map(class_to_id)"
   ]
  },
  {
   "cell_type": "code",
   "execution_count": 9,
   "id": "e61c5058-bad8-41a0-a534-e5b97e329db4",
   "metadata": {},
   "outputs": [
    {
     "name": "stdout",
     "output_type": "stream",
     "text": [
      "   label                                       cleaned_text\n",
      "0      0  in other words katandandre, your food was crap...\n",
      "1      0  why is aussietv so white? mkr theblock imacele...\n",
      "2      0       a classy whore? or more red velvet cupcakes?\n",
      "3      0  meh. p  thanks for the heads up, but not too c...\n",
      "4      0  this is an isis account pretending to be a kur...\n"
     ]
    }
   ],
   "source": [
    "print(df.head())"
   ]
  },
  {
   "cell_type": "code",
   "execution_count": 10,
   "id": "043a104d-c0e5-4c08-919d-ec61d15194a7",
   "metadata": {},
   "outputs": [
    {
     "name": "stdout",
     "output_type": "stream",
     "text": [
      "Unique Classes: ['not bully' 'religious' 'others' 'sexual']\n"
     ]
    }
   ],
   "source": [
    "# Print unique classes\n",
    "print(\"Unique Classes:\", classes)"
   ]
  },
  {
   "cell_type": "code",
   "execution_count": 11,
   "id": "f601b6ea-50e3-44c5-b6aa-647ed40a1e82",
   "metadata": {},
   "outputs": [
    {
     "name": "stdout",
     "output_type": "stream",
     "text": [
      "Class to ID Mapping: {'not bully': 0, 'religious': 1, 'others': 2, 'sexual': 3}\n"
     ]
    }
   ],
   "source": [
    "# Print the mapping from class labels to IDs\n",
    "print(\"Class to ID Mapping:\", class_to_id)"
   ]
  },
  {
   "cell_type": "code",
   "execution_count": 12,
   "id": "7380b108-3ec1-44f4-9924-79c7258e5c49",
   "metadata": {},
   "outputs": [
    {
     "name": "stdout",
     "output_type": "stream",
     "text": [
      "ID to Class Mapping: {0: 'not bully', 1: 'religious', 2: 'others', 3: 'sexual'}\n"
     ]
    }
   ],
   "source": [
    "# Print the mapping from IDs back to class labels\n",
    "print(\"ID to Class Mapping:\", id_to_class)"
   ]
  },
  {
   "cell_type": "code",
   "execution_count": 13,
   "id": "be60815f-66da-44a8-845b-a8955964d4b6",
   "metadata": {},
   "outputs": [],
   "source": [
    "# Split the dataset\n",
    "train_texts, test_texts, train_labels, test_labels = train_test_split(\n",
    "    df['cleaned_text'].values, df['label'].values, test_size=0.2, random_state=42\n",
    ")"
   ]
  },
  {
   "cell_type": "code",
   "execution_count": 14,
   "id": "60f90f19-bb20-40db-aab4-87f1eb8656a8",
   "metadata": {},
   "outputs": [],
   "source": [
    "tokenizer = XLNetTokenizer.from_pretrained('xlnet-base-cased')"
   ]
  },
  {
   "cell_type": "code",
   "execution_count": 15,
   "id": "61886f3f-a8e7-406b-b33f-ca6eff3d46d1",
   "metadata": {},
   "outputs": [],
   "source": [
    "# Tokenize the text\n",
    "def tokenize_function(texts):\n",
    "    # Ensure all elements are strings\n",
    "    texts = [str(text) for text in texts]  # Convert each element to string explicitly\n",
    "    return tokenizer(texts, padding=True, truncation=True, max_length=128, return_tensors=\"pt\")\n",
    "\n",
    "train_encodings = tokenize_function(train_texts)\n",
    "test_encodings = tokenize_function(test_texts)"
   ]
  },
  {
   "cell_type": "code",
   "execution_count": 16,
   "id": "36a4060d-c991-4916-9b07-0460175bc1e8",
   "metadata": {},
   "outputs": [
    {
     "data": {
      "text/plain": [
       "22597"
      ]
     },
     "execution_count": 16,
     "metadata": {},
     "output_type": "execute_result"
    }
   ],
   "source": [
    "train_texts.size"
   ]
  },
  {
   "cell_type": "code",
   "execution_count": 17,
   "id": "8108594f-a17a-4384-89bb-492c592e7a3d",
   "metadata": {},
   "outputs": [
    {
     "name": "stdout",
     "output_type": "stream",
     "text": [
      "Original Text: rt    also the awesome  counted the  of women he follows amp wrote about it here\n",
      "Tokenized Text: <pad><pad><pad><pad><pad><pad><pad><pad><pad><pad><pad><pad><pad><pad><pad><pad><pad><pad><pad><pad><pad><pad><pad><pad><pad><pad><pad><pad><pad><pad><pad><pad><pad><pad><pad><pad><pad><pad><pad><pad><pad><pad><pad><pad><pad><pad><pad><pad><pad><pad><pad><pad><pad><pad><pad><pad><pad><pad><pad><pad><pad><pad><pad><pad><pad><pad><pad><pad><pad><pad><pad><pad><pad><pad><pad><pad><pad><pad><pad><pad><pad><pad><pad><pad><pad><pad><pad><pad><pad><pad><pad><pad><pad><pad><pad><pad><pad><pad><pad><pad><pad><pad><pad><pad><pad><pad><pad><pad><pad>rt also the awesome counted the of women he follows amp wrote about it here<sep><cls>\n"
     ]
    }
   ],
   "source": [
    "# Example: Get tokenized text for the first row of train_texts\n",
    "row_index = 0  # Index of the row you want to examine\n",
    "input_ids = train_encodings['input_ids'][row_index]  # Get the token IDs for the row\n",
    "\n",
    "# Decode the token IDs back to text\n",
    "tokenized_text = tokenizer.decode(input_ids)\n",
    "\n",
    "# Print the tokenized text\n",
    "print(f\"Original Text: {train_texts[row_index]}\")\n",
    "print(f\"Tokenized Text: {tokenized_text}\")"
   ]
  },
  {
   "cell_type": "code",
   "execution_count": 18,
   "id": "fae43655-587a-4021-b9f2-4b6cef82d29c",
   "metadata": {},
   "outputs": [
    {
     "name": "stdout",
     "output_type": "stream",
     "text": [
      "GPU is available and being used: NVIDIA GeForce RTX 3070\n"
     ]
    }
   ],
   "source": [
    "if torch.cuda.is_available():\n",
    "    device = torch.device(\"cuda\")\n",
    "    print(\"GPU is available and being used:\", torch.cuda.get_device_name(0))\n",
    "else:\n",
    "    device = torch.device(\"cpu\")\n",
    "    print(\"GPU not available, using CPU instead.\")"
   ]
  },
  {
   "cell_type": "code",
   "execution_count": 19,
   "id": "defd7b35-ef0a-4bb9-a586-40b804421985",
   "metadata": {},
   "outputs": [],
   "source": [
    "# Create a custom dataset class\n",
    "class CyberbullyingDataset(Dataset):\n",
    "    def __init__(self, encodings, labels):\n",
    "        self.encodings = encodings\n",
    "        self.labels = labels\n",
    "\n",
    "    def __len__(self):\n",
    "        return len(self.labels)\n",
    "\n",
    "    def __getitem__(self, idx):\n",
    "        item = {key: val[idx] for key, val in self.encodings.items()}\n",
    "        item['labels'] = torch.tensor(self.labels[idx])\n",
    "        return item"
   ]
  },
  {
   "cell_type": "code",
   "execution_count": 20,
   "id": "4d3819a2-a51e-4a9d-8cd5-919a3dc7c0b1",
   "metadata": {},
   "outputs": [],
   "source": [
    "train_dataset = CyberbullyingDataset(train_encodings, train_labels)\n",
    "test_dataset = CyberbullyingDataset(test_encodings, test_labels)"
   ]
  },
  {
   "cell_type": "code",
   "execution_count": 21,
   "id": "3045fbfd-651c-4627-a593-38aa9d9d8c35",
   "metadata": {},
   "outputs": [],
   "source": [
    "# # Display a few samples from train_dataset\n",
    "# print(\"Sample Data from train_dataset:\")\n",
    "# for i in range(5):  # Display first 5 samples\n",
    "#     print(train_dataset[i])\n"
   ]
  },
  {
   "cell_type": "code",
   "execution_count": 22,
   "id": "4cc44f10-b354-48c4-8a08-29508acea243",
   "metadata": {},
   "outputs": [
    {
     "name": "stderr",
     "output_type": "stream",
     "text": [
      "Some weights of XLNetForSequenceClassification were not initialized from the model checkpoint at xlnet-base-cased and are newly initialized: ['logits_proj.bias', 'logits_proj.weight', 'sequence_summary.summary.bias', 'sequence_summary.summary.weight']\n",
      "You should probably TRAIN this model on a down-stream task to be able to use it for predictions and inference.\n"
     ]
    }
   ],
   "source": [
    "# Load the model\n",
    "model = XLNetForSequenceClassification.from_pretrained('xlnet-base-cased', num_labels=len(classes))\n",
    "\n",
    "model.config.hidden_dropout_prob = 0.3\n",
    "model.config.attention_probs_dropout_prob = 0.3"
   ]
  },
  {
   "cell_type": "code",
   "execution_count": 23,
   "id": "5c5ca739-0c28-48ce-9d43-89a8ca369355",
   "metadata": {},
   "outputs": [],
   "source": [
    "def compute_metrics(eval_pred):\n",
    "    logits, labels = eval_pred\n",
    "    predictions = np.argmax(logits, axis=-1)\n",
    "    return metric.compute(predictions=predictions, references=labels)"
   ]
  },
  {
   "cell_type": "code",
   "execution_count": 24,
   "id": "28f8deb2-5cc4-484b-bdfb-198a5394b561",
   "metadata": {},
   "outputs": [],
   "source": [
    "import evaluate\n",
    "\n",
    "metric = evaluate.load(\"accuracy\")"
   ]
  },
  {
   "cell_type": "code",
   "execution_count": 25,
   "id": "1453adf7-91cd-4f79-891f-fc2e990fe506",
   "metadata": {},
   "outputs": [],
   "source": [
    "from torch.optim import AdamW\n",
    "\n",
    "optimizer = AdamW(model.parameters(), lr=5e-5, weight_decay=0.05)"
   ]
  },
  {
   "cell_type": "code",
   "execution_count": 26,
   "id": "066bc3ba-89df-4d00-a32a-c598047bc7a9",
   "metadata": {},
   "outputs": [],
   "source": [
    "from transformers import get_scheduler"
   ]
  },
  {
   "cell_type": "code",
   "execution_count": 29,
   "id": "9fab3d1c-a78c-4d83-ac4f-d7904b2e62ed",
   "metadata": {},
   "outputs": [],
   "source": [
    "# Define the learning rate scheduler\n",
    "num_training_steps = len(train_dataset) // training_args.per_device_train_batch_size * training_args.num_train_epochs\n",
    "lr_scheduler = get_scheduler(\n",
    "    \"linear\",  # Options: 'linear', 'cosine', 'constant', etc.\n",
    "    optimizer=optimizer,\n",
    "    num_warmup_steps=500,\n",
    "    num_training_steps=num_training_steps\n",
    ")"
   ]
  },
  {
   "cell_type": "code",
   "execution_count": 30,
   "id": "c085e726-9379-4295-b238-89cc83315235",
   "metadata": {},
   "outputs": [],
   "source": [
    "# Set up Trainer\n",
    "training_args = TrainingArguments(\n",
    "    output_dir=\"./resultsBERT0/T\",  # Directory to save model checkpoints and logs\n",
    "    num_train_epochs=2,  # Number of training epochs\n",
    "    per_device_train_batch_size=16,  # Batch size for training\n",
    "    per_device_eval_batch_size=16,  # Batch size for evaluation\n",
    "    warmup_steps=500,  # Number of warmup steps for learning rate scheduler\n",
    "    weight_decay=0.05,  # Weight decay (L2 regularization)\n",
    "    logging_dir=\"./logs\",  # Directory for storing logs\n",
    "    logging_steps=200,  # Log metrics every 200 steps\n",
    "    eval_strategy=\"epoch\",  # Evaluate the model at the end of every epoch\n",
    "    save_strategy=\"epoch\",  # Save model at the end of every epoch\n",
    "    load_best_model_at_end=True,  # Load the best model at the end of training\n",
    ")\n",
    "\n",
    "trainer = Trainer(\n",
    "    model=model,\n",
    "    args=training_args,\n",
    "    train_dataset=train_dataset,\n",
    "    eval_dataset=test_dataset,\n",
    "    compute_metrics=compute_metrics,\n",
    "    optimizers=(optimizer, lr_scheduler)\n",
    ")\n"
   ]
  },
  {
   "cell_type": "code",
   "execution_count": 31,
   "id": "28702d86-16c8-4e69-b363-6fec8de603eb",
   "metadata": {},
   "outputs": [
    {
     "data": {
      "text/html": [
       "\n",
       "    <div>\n",
       "      \n",
       "      <progress value='2826' max='2826' style='width:300px; height:20px; vertical-align: middle;'></progress>\n",
       "      [2826/2826 3:39:11, Epoch 2/2]\n",
       "    </div>\n",
       "    <table border=\"1\" class=\"dataframe\">\n",
       "  <thead>\n",
       " <tr style=\"text-align: left;\">\n",
       "      <th>Epoch</th>\n",
       "      <th>Training Loss</th>\n",
       "      <th>Validation Loss</th>\n",
       "      <th>Accuracy</th>\n",
       "    </tr>\n",
       "  </thead>\n",
       "  <tbody>\n",
       "    <tr>\n",
       "      <td>1</td>\n",
       "      <td>0.385600</td>\n",
       "      <td>0.361010</td>\n",
       "      <td>0.843009</td>\n",
       "    </tr>\n",
       "    <tr>\n",
       "      <td>2</td>\n",
       "      <td>0.287900</td>\n",
       "      <td>0.319846</td>\n",
       "      <td>0.864248</td>\n",
       "    </tr>\n",
       "  </tbody>\n",
       "</table><p>"
      ],
      "text/plain": [
       "<IPython.core.display.HTML object>"
      ]
     },
     "metadata": {},
     "output_type": "display_data"
    },
    {
     "data": {
      "text/plain": [
       "TrainOutput(global_step=2826, training_loss=0.4142353323783254, metrics={'train_runtime': 13154.6997, 'train_samples_per_second': 3.436, 'train_steps_per_second': 0.215, 'total_flos': 3218773220947968.0, 'train_loss': 0.4142353323783254, 'epoch': 2.0})"
      ]
     },
     "execution_count": 31,
     "metadata": {},
     "output_type": "execute_result"
    }
   ],
   "source": [
    "# Train the model\n",
    "trainer.train()"
   ]
  },
  {
   "cell_type": "code",
   "execution_count": 32,
   "id": "d8fc360d-9afb-4f04-8fa0-d10ebc987aa5",
   "metadata": {},
   "outputs": [
    {
     "data": {
      "text/html": [],
      "text/plain": [
       "<IPython.core.display.HTML object>"
      ]
     },
     "metadata": {},
     "output_type": "display_data"
    },
    {
     "name": "stdout",
     "output_type": "stream",
     "text": [
      "Evaluation Results: {'eval_loss': 0.3198460042476654, 'eval_accuracy': 0.8642477876106195, 'eval_runtime': 35.6668, 'eval_samples_per_second': 158.411, 'eval_steps_per_second': 9.925, 'epoch': 2.0}\n"
     ]
    }
   ],
   "source": [
    "# Evaluate the model\n",
    "eval_results = trainer.evaluate()\n",
    "print(f\"Evaluation Results: {eval_results}\")"
   ]
  },
  {
   "cell_type": "code",
   "execution_count": 33,
   "id": "f68fb45d-67d8-4e72-8922-c03f835e681d",
   "metadata": {},
   "outputs": [
    {
     "name": "stdout",
     "output_type": "stream",
     "text": [
      "Accuracy: 0.8642477876106195\n"
     ]
    }
   ],
   "source": [
    "from sklearn.metrics import accuracy_score\n",
    "\n",
    "predictions = trainer.predict(test_dataset)\n",
    "\n",
    "# Get predicted labels\n",
    "predicted_labels = np.argmax(predictions.predictions, axis=1)\n",
    "\n",
    "# Calculate accuracy\n",
    "accuracy = accuracy_score(test_labels, predicted_labels)\n",
    "\n",
    "print(f\"Accuracy: {accuracy}\")"
   ]
  },
  {
   "cell_type": "code",
   "execution_count": 34,
   "id": "72b57d03-394e-4117-a418-a93f289176ee",
   "metadata": {},
   "outputs": [
    {
     "data": {
      "text/html": [],
      "text/plain": [
       "<IPython.core.display.HTML object>"
      ]
     },
     "metadata": {},
     "output_type": "display_data"
    },
    {
     "data": {
      "image/png": "[encoded data removed]",
      "text/plain": [
       "<Figure size 1000x700 with 2 Axes>"
      ]
     },
     "metadata": {},
     "output_type": "display_data"
    }
   ],
   "source": [
    "from sklearn.metrics import confusion_matrix\n",
    "import matplotlib.pyplot as plt\n",
    "import seaborn as sns\n",
    "\n",
    "predictions = trainer.predict(test_dataset)\n",
    "predicted_labels = np.argmax(predictions.predictions, axis=1)\n",
    "\n",
    "# Generate confusion matrix\n",
    "cm = confusion_matrix(test_labels, predicted_labels)\n",
    "\n",
    "# Plot the confusion matrix\n",
    "plt.figure(figsize=(10, 7))\n",
    "sns.heatmap(cm, annot=True, fmt='d', cmap='Blues',\n",
    "            xticklabels=classes, yticklabels=classes)\n",
    "plt.xlabel('Predicted Labels')\n",
    "plt.ylabel('True Labels')\n",
    "plt.title('Confusion Matrix')\n",
    "plt.show()"
   ]
  },
  {
   "cell_type": "code",
   "execution_count": 35,
   "id": "28fe029e-008b-43e1-af69-49703d03eda1",
   "metadata": {},
   "outputs": [
    {
     "data": {
      "text/html": [],
      "text/plain": [
       "<IPython.core.display.HTML object>"
      ]
     },
     "metadata": {},
     "output_type": "display_data"
    },
    {
     "name": "stdout",
     "output_type": "stream",
     "text": [
      "Test Accuracy: 0.8642\n",
      "Test Precision: 0.8615\n",
      "Test Recall: 0.8642\n",
      "Test F1 Score: 0.8625\n"
     ]
    }
   ],
   "source": [
    "from sklearn.metrics import accuracy_score, precision_recall_fscore_support\n",
    "\n",
    "# Get model predictions\n",
    "predictions, labels, _ = trainer.predict(test_dataset)\n",
    "\n",
    "# Convert logits to predicted labels\n",
    "predicted_labels = np.argmax(predictions, axis=1)\n",
    "\n",
    "# Compute metrics\n",
    "accuracy = accuracy_score(labels, predicted_labels)\n",
    "precision, recall, f1, _ = precision_recall_fscore_support(labels, predicted_labels, average=\"weighted\")\n",
    "\n",
    "print(f\"Test Accuracy: {accuracy:.4f}\")\n",
    "print(f\"Test Precision: {precision:.4f}\")\n",
    "print(f\"Test Recall: {recall:.4f}\")\n",
    "print(f\"Test F1 Score: {f1:.4f}\")\n"
   ]
  },
  {
   "cell_type": "code",
   "execution_count": 36,
   "id": "00ee327d-0c0e-43a0-a4eb-8e52272ffbfb",
   "metadata": {},
   "outputs": [
    {
     "data": {
      "text/html": [
       "\n",
       "    <div>\n",
       "      \n",
       "      <progress value='1413' max='1413' style='width:300px; height:20px; vertical-align: middle;'></progress>\n",
       "      [1413/1413 02:17]\n",
       "    </div>\n",
       "    "
      ],
      "text/plain": [
       "<IPython.core.display.HTML object>"
      ]
     },
     "metadata": {},
     "output_type": "display_data"
    },
    {
     "name": "stdout",
     "output_type": "stream",
     "text": [
      "Training Set Metrics: {'eval_loss': 0.20738881826400757, 'eval_accuracy': 0.9123777492587511, 'eval_runtime': 137.9879, 'eval_samples_per_second': 163.761, 'eval_steps_per_second': 10.24, 'epoch': 2.0}\n"
     ]
    }
   ],
   "source": [
    "train_results = trainer.evaluate(train_dataset)\n",
    "print(\"Training Set Metrics:\", train_results)\n"
   ]
  },
  {
   "cell_type": "code",
   "execution_count": 37,
   "id": "a5b5dc5a-d4b0-4f40-bf80-07bdfb9c2c44",
   "metadata": {},
   "outputs": [
    {
     "name": "stdout",
     "output_type": "stream",
     "text": [
      "Model weights saved to xlnet_model.pth\n"
     ]
    }
   ],
   "source": [
    "import torch\n",
    "\n",
    "# Define the path to save the model\n",
    "model_path = \"xlnet_model.pth\"  # This will save in the same directory as the notebook\n",
    "\n",
    "# Save only the model's weights\n",
    "torch.save(model.state_dict(), model_path)\n",
    "print(f\"Model weights saved to {model_path}\")\n"
   ]
  },
  {
   "cell_type": "code",
   "execution_count": 38,
   "id": "fc72b7f4-80e4-45e5-98ef-aa4aa6a71188",
   "metadata": {},
   "outputs": [],
   "source": [
    "torch.save(train_dataset, \"xlnet_train_dataset.pth\")\n"
   ]
  },
  {
   "cell_type": "code",
   "execution_count": 39,
   "id": "0c1192db-7228-49b1-bf62-71c5cbb7116b",
   "metadata": {},
   "outputs": [],
   "source": [
    "torch.save(test_dataset, \"xlnet_test_dataset.pth\")"
   ]
  },
  {
   "cell_type": "code",
   "execution_count": 1,
   "id": "b5eb725b-e213-4930-996e-17448337fd7a",
   "metadata": {},
   "outputs": [
    {
     "name": "stderr",
     "output_type": "stream",
     "text": [
      "Some weights of XLNetForSequenceClassification were not initialized from the model checkpoint at xlnet-base-cased and are newly initialized: ['logits_proj.bias', 'logits_proj.weight', 'sequence_summary.summary.bias', 'sequence_summary.summary.weight']\n",
      "You should probably TRAIN this model on a down-stream task to be able to use it for predictions and inference.\n",
      "C:\\Users\\MIST LAB\\AppData\\Local\\Temp\\ipykernel_9476\\1661848941.py:11: FutureWarning: You are using `torch.load` with `weights_only=False` (the current default value), which uses the default pickle module implicitly. It is possible to construct malicious pickle data which will execute arbitrary code during unpickling (See https://github.com/pytorch/pytorch/blob/main/SECURITY.md#untrusted-models for more details). In a future release, the default value for `weights_only` will be flipped to `True`. This limits the functions that could be executed during unpickling. Arbitrary objects will no longer be allowed to be loaded via this mode unless they are explicitly allowlisted by the user via `torch.serialization.add_safe_globals`. We recommend you start setting `weights_only=True` for any use case where you don't have full control of the loaded file. Please open an issue on GitHub for any issues related to this experimental feature.\n",
      "  xlnet_model.load_state_dict(torch.load(\"xlnet_model.pth\", map_location=torch.device('cpu')))\n"
     ]
    },
    {
     "name": "stdout",
     "output_type": "stream",
     "text": [
      "xlnet model loaded successfully!\n"
     ]
    },
    {
     "name": "stderr",
     "output_type": "stream",
     "text": [
      "C:\\Users\\MIST LAB\\AppData\\Local\\Temp\\ipykernel_9476\\1661848941.py:36: FutureWarning: You are using `torch.load` with `weights_only=False` (the current default value), which uses the default pickle module implicitly. It is possible to construct malicious pickle data which will execute arbitrary code during unpickling (See https://github.com/pytorch/pytorch/blob/main/SECURITY.md#untrusted-models for more details). In a future release, the default value for `weights_only` will be flipped to `True`. This limits the functions that could be executed during unpickling. Arbitrary objects will no longer be allowed to be loaded via this mode unless they are explicitly allowlisted by the user via `torch.serialization.add_safe_globals`. We recommend you start setting `weights_only=True` for any use case where you don't have full control of the loaded file. Please open an issue on GitHub for any issues related to this experimental feature.\n",
      "  xlnet_test_dataset = torch.load(\"xlnet_test_dataset.pth\")\n",
      "Evaluating:   0%|                                                                              | 0/354 [00:00<?, ?it/s]C:\\Users\\MIST LAB\\AppData\\Local\\Temp\\ipykernel_9476\\1661848941.py:32: UserWarning: To copy construct from a tensor, it is recommended to use sourceTensor.clone().detach() or sourceTensor.clone().detach().requires_grad_(True), rather than torch.tensor(sourceTensor).\n",
      "  item = {key: torch.tensor(val[idx]) for key, val in self.encodings.items()}\n",
      "Evaluating: 100%|████████████████████████████████████████████████████████████████████| 354/354 [00:23<00:00, 14.83it/s]"
     ]
    },
    {
     "name": "stdout",
     "output_type": "stream",
     "text": [
      "XLNet Model Accuracy: 0.8642\n"
     ]
    },
    {
     "name": "stderr",
     "output_type": "stream",
     "text": [
      "\n"
     ]
    }
   ],
   "source": [
    "import torch\n",
    "import torch.nn.functional as F\n",
    "from torch.utils.data import DataLoader\n",
    "from collections import Counter\n",
    "from transformers import XLNetForSequenceClassification\n",
    "\n",
    "# Define the same model architecture\n",
    "xlnet_model = XLNetForSequenceClassification.from_pretrained('xlnet-base-cased', num_labels=4)\n",
    "\n",
    "# Load the saved weights\n",
    "xlnet_model.load_state_dict(torch.load(\"xlnet_model.pth\", map_location=torch.device('cpu')))\n",
    "\n",
    "# Set the model to evaluation mode\n",
    "xlnet_model.eval()\n",
    "\n",
    "print(\"xlnet model loaded successfully!\")\n",
    "\n",
    "\n",
    "\n",
    "from torch.utils.data import DataLoader\n",
    "from sklearn.metrics import accuracy_score\n",
    "from tqdm import tqdm\n",
    "class CyberbullyingDataset(torch.utils.data.Dataset):\n",
    "    def __init__(self, encodings, labels):\n",
    "        self.encodings = encodings\n",
    "        self.labels = labels\n",
    "\n",
    "    def __len__(self):\n",
    "        return len(self.labels)\n",
    "\n",
    "    def __getitem__(self, idx):\n",
    "        item = {key: torch.tensor(val[idx]) for key, val in self.encodings.items()}\n",
    "        item[\"labels\"] = torch.tensor(self.labels[idx])\n",
    "        return item\n",
    "        \n",
    "xlnet_test_dataset = torch.load(\"xlnet_test_dataset.pth\")\n",
    "\n",
    "\n",
    "def evaluate_model(model, test_dataset, batch_size=16):\n",
    "    model.eval()\n",
    "    device = torch.device(\"cuda\" if torch.cuda.is_available() else \"cpu\")\n",
    "    model.to(device)\n",
    "\n",
    "    test_loader = DataLoader(test_dataset, batch_size=batch_size, shuffle=False)\n",
    "    all_preds = []\n",
    "    all_labels = []\n",
    "\n",
    "    with torch.no_grad():\n",
    "        for batch in tqdm(test_loader, desc=\"Evaluating\"):\n",
    "            inputs = {key: val.to(device) for key, val in batch.items() if key != \"labels\"}\n",
    "            labels = batch[\"labels\"].to(device)\n",
    "\n",
    "            outputs = model(**inputs)\n",
    "            logits = outputs.logits\n",
    "            preds = torch.argmax(logits, dim=1)\n",
    "\n",
    "            all_preds.extend(preds.cpu().numpy())\n",
    "            all_labels.extend(labels.cpu().numpy())\n",
    "\n",
    "    accuracy = accuracy_score(all_labels, all_preds)\n",
    "    return accuracy, all_preds, all_labels\n",
    "\n",
    "\n",
    "xlnet_accuracy, predictions, true_labels = evaluate_model(xlnet_model, xlnet_test_dataset)\n",
    "\n",
    "print(f\"XLNet Model Accuracy: {xlnet_accuracy:.4f}\")\n"
   ]
  },
  {
   "cell_type": "code",
   "execution_count": 2,
   "id": "a15d252a-f001-47e4-8975-3b656b78217d",
   "metadata": {},
   "outputs": [
    {
     "data": {
      "image/png": "[encoded data removed]",
      "text/plain": [
       "<Figure size 640x480 with 2 Axes>"
      ]
     },
     "metadata": {},
     "output_type": "display_data"
    }
   ],
   "source": [
    "import numpy as np\n",
    "import matplotlib.pyplot as plt\n",
    "from sklearn.metrics import (\n",
    "    confusion_matrix,\n",
    "    ConfusionMatrixDisplay,\n",
    "    classification_report,\n",
    "    precision_recall_fscore_support,\n",
    "    roc_auc_score,\n",
    "    cohen_kappa_score\n",
    ")\n",
    "from sklearn.preprocessing import label_binarize\n",
    "\n",
    "\n",
    "class_names = ['not bully', 'religious', 'others', 'sexual']\n",
    "\n",
    "cm = confusion_matrix(true_labels, predictions)\n",
    "disp = ConfusionMatrixDisplay(confusion_matrix=cm, display_labels=class_names)\n",
    "disp.plot(cmap=plt.cm.Blues, values_format='d')\n",
    "plt.title(\"Confusion Matrix - XLNet Model\")\n",
    "plt.show()\n"
   ]
  },
  {
   "cell_type": "code",
   "execution_count": 3,
   "id": "ee7c0514-4d89-440c-897b-d139341d51a9",
   "metadata": {},
   "outputs": [
    {
     "name": "stdout",
     "output_type": "stream",
     "text": [
      "\n",
      "Classification Report:\n",
      "              precision    recall  f1-score   support\n",
      "\n",
      "   not bully       0.76      0.71      0.73      1383\n",
      "   religious       0.95      0.97      0.96      1403\n",
      "      others       0.82      0.83      0.82      1759\n",
      "      sexual       0.94      0.97      0.96      1105\n",
      "\n",
      "    accuracy                           0.86      5650\n",
      "   macro avg       0.87      0.87      0.87      5650\n",
      "weighted avg       0.86      0.86      0.86      5650\n",
      "\n"
     ]
    }
   ],
   "source": [
    "print(\"\\nClassification Report:\")\n",
    "print(classification_report(true_labels, predictions, target_names=class_names))\n"
   ]
  },
  {
   "cell_type": "code",
   "execution_count": 4,
   "id": "766f34d8-5386-45f7-a970-04dce463dd6d",
   "metadata": {},
   "outputs": [
    {
     "name": "stdout",
     "output_type": "stream",
     "text": [
      "\n",
      "Cohen's Kappa Score: 0.8174\n"
     ]
    }
   ],
   "source": [
    "kappa = cohen_kappa_score(true_labels, predictions)\n",
    "print(f\"\\nCohen's Kappa Score: {kappa:.4f}\")"
   ]
  },
  {
   "cell_type": "code",
   "execution_count": 5,
   "id": "a31c5c85-9526-4d6c-8edc-975b9c08524f",
   "metadata": {},
   "outputs": [
    {
     "name": "stderr",
     "output_type": "stream",
     "text": [
      "Evaluating (for ROC-AUC):   0%|                                                                | 0/354 [00:00<?, ?it/s]C:\\Users\\MIST LAB\\AppData\\Local\\Temp\\ipykernel_9476\\1661848941.py:32: UserWarning: To copy construct from a tensor, it is recommended to use sourceTensor.clone().detach() or sourceTensor.clone().detach().requires_grad_(True), rather than torch.tensor(sourceTensor).\n",
      "  item = {key: torch.tensor(val[idx]) for key, val in self.encodings.items()}\n",
      "Evaluating (for ROC-AUC): 100%|██████████████████████████████████████████████████████| 354/354 [00:23<00:00, 14.90it/s]"
     ]
    },
    {
     "name": "stdout",
     "output_type": "stream",
     "text": [
      "\n",
      "Macro ROC-AUC Score: 0.9756\n"
     ]
    },
    {
     "name": "stderr",
     "output_type": "stream",
     "text": [
      "\n"
     ]
    }
   ],
   "source": [
    "def evaluate_logits(model, test_dataset, batch_size=16):\n",
    "    model.eval()\n",
    "    device = torch.device(\"cuda\" if torch.cuda.is_available() else \"cpu\")\n",
    "    model.to(device)\n",
    "\n",
    "    test_loader = DataLoader(test_dataset, batch_size=batch_size, shuffle=False)\n",
    "    all_labels = []\n",
    "    all_probs = []\n",
    "\n",
    "    with torch.no_grad():\n",
    "        for batch in tqdm(test_loader, desc=\"Evaluating (for ROC-AUC)\"):\n",
    "            inputs = {key: val.to(device) for key, val in batch.items() if key != \"labels\"}\n",
    "            labels = batch[\"labels\"].to(device)\n",
    "\n",
    "            outputs = model(**inputs)\n",
    "            probs = torch.softmax(outputs.logits, dim=1)\n",
    "\n",
    "            all_probs.extend(probs.cpu().numpy())\n",
    "            all_labels.extend(labels.cpu().numpy())\n",
    "\n",
    "    return np.array(all_probs), np.array(all_labels)\n",
    "\n",
    "\n",
    "probs, y_true = evaluate_logits(xlnet_model, xlnet_test_dataset)\n",
    "y_true_bin = label_binarize(y_true, classes=[0, 1, 2, 3])\n",
    "roc_auc = roc_auc_score(y_true_bin, probs, average='macro')\n",
    "print(f\"\\nMacro ROC-AUC Score: {roc_auc:.4f}\")\n"
   ]
  },
  {
   "cell_type": "code",
   "execution_count": 6,
   "id": "48759dfd-0f8c-4a67-bf63-9782dc0d02a1",
   "metadata": {},
   "outputs": [
    {
     "data": {
      "image/png": "[encoded data removed]",
      "text/plain": [
       "<Figure size 600x400 with 1 Axes>"
      ]
     },
     "metadata": {},
     "output_type": "display_data"
    }
   ],
   "source": [
    "import numpy as np\n",
    "import matplotlib.pyplot as plt\n",
    "from sklearn.metrics import roc_curve, auc\n",
    "from sklearn.preprocessing import label_binarize\n",
    "\n",
    "# Your class names\n",
    "class_names = ['not bully', 'religious', 'others', 'sexual']\n",
    "\n",
    "# Binarize true labels\n",
    "y_true_bin = label_binarize(y_true, classes=[0, 1, 2, 3])\n",
    "n_classes = y_true_bin.shape[1]\n",
    "\n",
    "# Compute ROC curve and AUC for each class\n",
    "fpr = dict()\n",
    "tpr = dict()\n",
    "roc_auc = dict()\n",
    "\n",
    "for i in range(n_classes):\n",
    "    fpr[i], tpr[i], _ = roc_curve(y_true_bin[:, i], probs[:, i])\n",
    "    roc_auc[i] = auc(fpr[i], tpr[i])\n",
    "\n",
    "# Create single ROC plot\n",
    "plt.figure(figsize=(6, 4))\n",
    "\n",
    "for i in range(n_classes):\n",
    "    plt.plot(fpr[i], tpr[i], label=f\"{class_names[i]} (AUC = {roc_auc[i]*100:.2f}%)\")\n",
    "\n",
    "# Plot the diagonal reference line\n",
    "plt.plot([0, 1], [0, 1], 'k--', label='Chance (AUC = 50%)')\n",
    "\n",
    "# Formatting\n",
    "plt.xlim([0.0, 1.0])\n",
    "plt.ylim([0.0, 1.05])\n",
    "plt.xlabel('False Positive Rate')\n",
    "plt.ylabel('True Positive Rate')\n",
    "plt.title('Multi-Class ROC Curves - XLNet Model')\n",
    "plt.legend(loc=\"lower right\", fontsize=8)\n",
    "plt.grid(True)\n",
    "plt.tight_layout()\n",
    "plt.savefig(\"xlnet_roc_curve.png\", dpi=300)\n",
    "plt.show()\n"
   ]
  },
  {
   "cell_type": "code",
   "execution_count": 7,
   "id": "29a7ed57-c1d2-4e6e-8b0e-4b93b4fdadbe",
   "metadata": {},
   "outputs": [
    {
     "name": "stdout",
     "output_type": "stream",
     "text": [
      "Model size: 458326 KB\n"
     ]
    },
    {
     "name": "stderr",
     "output_type": "stream",
     "text": [
      "Some weights of XLNetForSequenceClassification were not initialized from the model checkpoint at xlnet-base-cased and are newly initialized: ['logits_proj.bias', 'logits_proj.weight', 'sequence_summary.summary.bias', 'sequence_summary.summary.weight']\n",
      "You should probably TRAIN this model on a down-stream task to be able to use it for predictions and inference.\n"
     ]
    },
    {
     "name": "stdout",
     "output_type": "stream",
     "text": [
      "Parameter count: 117312004\n"
     ]
    }
   ],
   "source": [
    "import os\n",
    "import torch\n",
    "model_size_kb = os.path.getsize(\"xlnet_model.pth\") / 1024\n",
    "print(f\"Model size: {model_size_kb:.0f} KB\")\n",
    "\n",
    "model = XLNetForSequenceClassification.from_pretrained('xlnet-base-cased', num_labels=4)\n",
    "\n",
    "# Count trainable parameters\n",
    "param_count = sum(p.numel() for p in model.parameters() if p.requires_grad)\n",
    "print(f\"Parameter count: {param_count}\")\n"
   ]
  },
  {
   "cell_type": "code",
   "execution_count": 8,
   "id": "e8404b70-685d-4346-b765-6b68f8cf5060",
   "metadata": {},
   "outputs": [
    {
     "name": "stdout",
     "output_type": "stream",
     "text": [
      "MCC: 81.76%\n"
     ]
    }
   ],
   "source": [
    "from sklearn.metrics import matthews_corrcoef\n",
    "\n",
    "mcc = matthews_corrcoef(true_labels, predictions)\n",
    "print(f\"MCC: {mcc * 100:.2f}%\")\n"
   ]
  },
  {
   "cell_type": "code",
   "execution_count": null,
   "id": "2223b136-b604-454d-a810-442b8ae6e718",
   "metadata": {},
   "outputs": [],
   "source": []
  }
 ],
 "metadata": {
  "kernelspec": {
   "display_name": "Python 3 (ipykernel)",
   "language": "python",
   "name": "python3"
  },
  "language_info": {
   "codemirror_mode": {
    "name": "ipython",
    "version": 3
   },
   "file_extension": ".py",
   "mimetype": "text/x-python",
   "name": "python",
   "nbconvert_exporter": "python",
   "pygments_lexer": "ipython3",
   "version": "3.10.11"
  }
 },
 "nbformat": 4,
 "nbformat_minor": 5
}
